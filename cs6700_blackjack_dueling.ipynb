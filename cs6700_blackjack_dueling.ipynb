{
 "cells": [
  {
   "cell_type": "markdown",
   "metadata": {},
   "source": [
    "# Blackjack"
   ]
  },
  {
   "cell_type": "markdown",
   "metadata": {},
   "source": [
    "### Random Action Player"
   ]
  },
  {
   "cell_type": "code",
   "execution_count": 1,
   "metadata": {},
   "outputs": [
    {
     "name": "stderr",
     "output_type": "stream",
     "text": [
      "100%|██████████████████████████████████████████████████████████████████████████████████| 10/10 [00:00<00:00, 30.38it/s]\n"
     ]
    },
    {
     "data": {
      "image/png": "[encoded data removed]",
      "text/plain": [
       "<Figure size 432x288 with 1 Axes>"
      ]
     },
     "metadata": {
      "needs_background": "light"
     },
     "output_type": "display_data"
    },
    {
     "name": "stdout",
     "output_type": "stream",
     "text": [
      "Average payout after 1000 rounds is -399.4\n"
     ]
    }
   ],
   "source": [
    "import gym\n",
    "import matplotlib.pyplot as plt\n",
    "from tqdm import tqdm\n",
    "import random\n",
    "%matplotlib inline\n",
    "env = gym.make('Blackjack-v0')\n",
    "env.reset()\n",
    "\n",
    "num_rounds = 1000 # Payout calculated over num_rounds\n",
    "num_samples = 10 # num_rounds simulated over num_samples\n",
    "\n",
    "average_payouts = []\n",
    "\n",
    "for sample in tqdm(range(num_samples)):\n",
    "    round = 1\n",
    "    total_payout = 0 # to store total payout over 'num_rounds'\n",
    "    \n",
    "    while round <= num_rounds:\n",
    "        action = env.action_space.sample()  # take random action\n",
    "        #print(action) # 0 or 1\n",
    "        obs, payout, is_done, _ = env.step(action)\n",
    "        #print(payout)\n",
    "        total_payout += payout\n",
    "        if is_done:\n",
    "            env.reset() # Environment deals new cards to player and dealer\n",
    "            round += 1\n",
    "    average_payouts.append(total_payout)\n",
    "\n",
    "plt.plot(average_payouts)                \n",
    "plt.xlabel('num_samples')\n",
    "plt.ylabel('payout after 1000 rounds')\n",
    "plt.show()    \n",
    "print (\"Average payout after {} rounds is {}\".format(num_rounds, sum(average_payouts)/num_samples))"
   ]
  },
  {
   "cell_type": "markdown",
   "metadata": {},
   "source": [
    "## DQN Agent"
   ]
  },
  {
   "cell_type": "code",
   "execution_count": 2,
   "metadata": {},
   "outputs": [
    {
     "name": "stderr",
     "output_type": "stream",
     "text": [
      "Using TensorFlow backend.\n"
     ]
    }
   ],
   "source": [
    "import random\n",
    "import gym\n",
    "import numpy as np\n",
    "from collections import deque\n",
    "from keras.models import Model\n",
    "from keras.layers import Dense, Input, Lambda, Activation\n",
    "from keras.optimizers import Adam\n",
    "from keras import backend as K"
   ]
  },
  {
   "cell_type": "code",
   "execution_count": 3,
   "metadata": {},
   "outputs": [],
   "source": [
    "class QMemoryUnit():\n",
    "    def __init__(self, state, action, reward, done, next_state):\n",
    "        self.state = state\n",
    "        self.action = action\n",
    "        self.reward = reward\n",
    "        self.done = done\n",
    "        self.next_state = next_state"
   ]
  },
  {
   "cell_type": "code",
   "execution_count": 4,
   "metadata": {},
   "outputs": [
    {
     "name": "stdout",
     "output_type": "stream",
     "text": [
      "WARNING:tensorflow:From C:\\Users\\jiech\\Anaconda3\\lib\\site-packages\\tensorflow\\python\\framework\\op_def_library.py:263: colocate_with (from tensorflow.python.framework.ops) is deprecated and will be removed in a future version.\n",
      "Instructions for updating:\n",
      "Colocations handled automatically by placer.\n"
     ]
    },
    {
     "name": "stderr",
     "output_type": "stream",
     "text": [
      "\r",
      "  0%|                                                                                         | 0/3000 [00:00<?, ?it/s]"
     ]
    },
    {
     "name": "stdout",
     "output_type": "stream",
     "text": [
      "WARNING:tensorflow:From C:\\Users\\jiech\\Anaconda3\\lib\\site-packages\\tensorflow\\python\\ops\\math_ops.py:3066: to_int32 (from tensorflow.python.ops.math_ops) is deprecated and will be removed in a future version.\n",
      "Instructions for updating:\n",
      "Use tf.cast instead.\n"
     ]
    },
    {
     "name": "stderr",
     "output_type": "stream",
     "text": [
      "100%|██████████████████████████████████████████████████████████████████████████████| 3000/3000 [05:27<00:00,  9.16it/s]\n"
     ]
    }
   ],
   "source": [
    "memory_size = 5000\n",
    "episodes = 3000\n",
    "epsilon = 0.1\n",
    "gamma = 0.1\n",
    "minibatch_size = 512\n",
    "\n",
    "# This returns a tensor\n",
    "inputs = Input(shape=(4,))\n",
    "\n",
    "# 2 Dense layers\n",
    "full = Dense(32, activation='relu')(inputs)\n",
    "full = Dense(32, activation='relu')(full)\n",
    "# Split to two part\n",
    "sp1,sp2 = Lambda(lambda x: [x[:,:16], x[:,16:]])(full)\n",
    "# The part that calculate V(s)\n",
    "value = Dense(32, activation='relu')(sp1)\n",
    "value = Dense(1, activation='linear')(value)\n",
    "# The part that calculate A(s,a)\n",
    "advantage = Dense(32, activation='relu')(sp2)\n",
    "advantage = Dense(2, activation='linear')(advantage)\n",
    "# aggregate the two parts together\n",
    "agg = Lambda(lambda x: x[0] + x[1] - K.mean(x[1], axis=1, keepdims=True))([value, advantage])\n",
    "outputs = Dense(1, activation='linear')(agg)\n",
    "\n",
    "model = Model(inputs=inputs, outputs=outputs)\n",
    "model.compile(loss='mean_squared_error', optimizer=Adam())\n",
    "\n",
    "memory = deque(maxlen=memory_size)\n",
    "env = gym.make('Blackjack-v0')\n",
    "\n",
    "#valid actions\n",
    "action_space = np.array([0,1])\n",
    "\n",
    "#state + actions\n",
    "action_state = np.zeros((2,4))\n",
    "\n",
    "rewards = []\n",
    "for episode in tqdm(range(episodes)):\n",
    "    done = False\n",
    "    state = np.array(env.reset())\n",
    "    total_reward = 0\n",
    "    while(not done):\n",
    "        action_state[:,:3] = state\n",
    "        action_state[:,3] = action_space\n",
    "        \n",
    "        #random choice\n",
    "        if(random.random() < epsilon):\n",
    "            action = np.random.choice(action_space)\n",
    "        \n",
    "        #action with greatest expected value\n",
    "        else:\n",
    "            action = np.argmax(model.predict(action_state))\n",
    "            \n",
    "        next_state, reward, done, _ = env.step(action)\n",
    "        total_reward += reward\n",
    "        \n",
    "        memory.append(QMemoryUnit(state, action, reward, done, next_state))\n",
    "        state = next_state\n",
    "        \n",
    "        minibatch = np.zeros((minibatch_size, 4))\n",
    "        labels = np.zeros(minibatch_size)\n",
    "        #generate minibatch and labels\n",
    "        for i in range(minibatch_size):\n",
    "            index = np.random.randint(0, len(memory))\n",
    "            sample = memory[index]\n",
    "            \n",
    "            reward = sample.reward\n",
    "            if(not sample.done):\n",
    "                action_state[:,:3] = sample.next_state\n",
    "                action_state[:,3] = action_space\n",
    "                reward += gamma * np.max(model.predict(action_state))\n",
    "            \n",
    "            minibatch[i,:3] = sample.state\n",
    "            minibatch[i,3] = sample.action\n",
    "            labels[i] = reward\n",
    "            \n",
    "        model.fit(minibatch, labels, verbose=0)\n",
    "    rewards.append(total_reward)"
   ]
  },
  {
   "cell_type": "code",
   "execution_count": 5,
   "metadata": {},
   "outputs": [
    {
     "name": "stderr",
     "output_type": "stream",
     "text": [
      "100%|██████████████████████████████████████████████████████████████████████████████| 1000/1000 [10:25<00:00,  1.38it/s]\n"
     ]
    },
    {
     "data": {
      "image/png": "[encoded data removed]",
      "text/plain": [
       "<Figure size 432x288 with 1 Axes>"
      ]
     },
     "metadata": {
      "needs_background": "light"
     },
     "output_type": "display_data"
    },
    {
     "name": "stdout",
     "output_type": "stream",
     "text": [
      "Average payout after 1000 rounds is -56.391\n"
     ]
    }
   ],
   "source": [
    "import gym\n",
    "import matplotlib.pyplot as plt\n",
    "\n",
    "env = gym.make('Blackjack-v0')\n",
    "state = env.reset()\n",
    "num_rounds = 1000 # Payout calculated over num_rounds\n",
    "num_samples = 1000 # num_rounds simulated over num_samples\n",
    "\n",
    "average_payouts = []\n",
    "\n",
    "for sample in tqdm(range(num_samples)):\n",
    "    round = 1\n",
    "    total_payout = 0 # to store total payout over 'num_rounds'\n",
    "    \n",
    "    while round <= num_rounds:\n",
    "        state = np.array(state)\n",
    "        action_state[:,:3] = state.reshape(1, state.shape[0])\n",
    "        action_state[:,3] = action_space.reshape(action_space.shape[0])\n",
    "        a = model.predict(action_state)\n",
    "        action = np.argmax(a.reshape((a.shape[0],a.shape[1])))\n",
    "        state, payout, is_done, _ = env.step(action)\n",
    "        total_payout += payout\n",
    "        if is_done:\n",
    "            state = env.reset() # Environment deals new cards to player and dealer\n",
    "            round += 1\n",
    "    average_payouts.append(total_payout)\n",
    "\n",
    "fig = plt.figure()\n",
    "plt.plot(average_payouts)                \n",
    "plt.xlabel('num_samples')\n",
    "plt.ylabel('payout after 1000 rounds')\n",
    "plt.show()    \n",
    "print (\"Average payout after {} rounds is {}\".format(num_rounds, sum(average_payouts)/num_samples))"
   ]
  },
  {
   "cell_type": "code",
   "execution_count": 6,
   "metadata": {},
   "outputs": [
    {
     "name": "stderr",
     "output_type": "stream",
     "text": [
      "100%|█████████████████████████████████████████████████████████████████████████████| 1000/1000 [00:01<00:00, 971.08it/s]\n"
     ]
    },
    {
     "data": {
      "text/plain": [
       "-8.0"
      ]
     },
     "execution_count": 6,
     "metadata": {},
     "output_type": "execute_result"
    }
   ],
   "source": [
    "total_reward = 0\n",
    "for i in tqdm(range(num_rounds)):\n",
    "    env.seed(i)\n",
    "    state = env.reset()\n",
    "    done = False\n",
    "    while(not done):\n",
    "        state = np.array(state)\n",
    "        action_state[:,:3] = state.reshape(1, state.shape[0])\n",
    "        a = model.predict(action_state)\n",
    "        action = np.argmax(a.reshape((a.shape[0],a.shape[1])))\n",
    "        state, reward, done, _ = env.step(action)\n",
    "    total_reward += reward\n",
    "total_reward"
   ]
  },
  {
   "cell_type": "code",
   "execution_count": null,
   "metadata": {},
   "outputs": [],
   "source": []
  }
 ],
 "metadata": {
  "kernelspec": {
   "display_name": "Python 3",
   "language": "python",
   "name": "python3"
  },
  "language_info": {
   "codemirror_mode": {
    "name": "ipython",
    "version": 3
   },
   "file_extension": ".py",
   "mimetype": "text/x-python",
   "name": "python",
   "nbconvert_exporter": "python",
   "pygments_lexer": "ipython3",
   "version": "3.7.3"
  }
 },
 "nbformat": 4,
 "nbformat_minor": 2
}
