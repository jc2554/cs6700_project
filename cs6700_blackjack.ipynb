{
 "cells": [
  {
   "cell_type": "markdown",
   "metadata": {},
   "source": [
    "# Blackjack"
   ]
  },
  {
   "cell_type": "markdown",
   "metadata": {},
   "source": [
    "### Random Action Player"
   ]
  },
  {
   "cell_type": "code",
   "execution_count": 1,
   "metadata": {},
   "outputs": [
    {
     "data": {
      "text/plain": [
       "<Figure size 640x480 with 1 Axes>"
      ]
     },
     "metadata": {},
     "output_type": "display_data"
    },
    {
     "name": "stdout",
     "output_type": "stream",
     "text": [
      "Average payout after 1000 rounds is -395.007\n"
     ]
    }
   ],
   "source": [
    "import gym\n",
    "import matplotlib.pyplot as plt\n",
    "\n",
    "env = gym.make('Blackjack-v0')\n",
    "env.reset()\n",
    "\n",
    "num_rounds = 1000 # Payout calculated over num_rounds\n",
    "num_samples = 1000 # num_rounds simulated over num_samples\n",
    "\n",
    "average_payouts = []\n",
    "\n",
    "for sample in range(num_samples):\n",
    "    round = 1\n",
    "    total_payout = 0 # to store total payout over 'num_rounds'\n",
    "    \n",
    "    while round <= num_rounds:\n",
    "        action = env.action_space.sample()  # take random action \n",
    "        obs, payout, is_done, _ = env.step(action)\n",
    "        total_payout += payout\n",
    "        if is_done:\n",
    "            env.reset() # Environment deals new cards to player and dealer\n",
    "            round += 1\n",
    "    average_payouts.append(total_payout)\n",
    "\n",
    "plt.plot(average_payouts)                \n",
    "plt.xlabel('num_samples')\n",
    "plt.ylabel('payout after 1000 rounds')\n",
    "plt.show()    \n",
    "print (\"Average payout after {} rounds is {}\".format(num_rounds, sum(average_payouts)/num_samples))"
   ]
  },
  {
   "cell_type": "markdown",
   "metadata": {},
   "source": [
    "### DQN Player"
   ]
  },
  {
   "cell_type": "code",
   "execution_count": null,
   "metadata": {},
   "outputs": [],
   "source": [
    "import gym\n",
    "import numpy as np\n",
    "import random\n",
    "from keras.models import Sequential\n",
    "from keras.layers import Dense, Dropout\n",
    "from keras.optimizers import Adam\n",
    "\n",
    "from collections import deque\n",
    "\n",
    "class DQN:\n",
    "    def __init__(self, env):\n",
    "        self.env     = env\n",
    "\n",
    "    def save_model(self, fn):\n",
    "        self.model.save(fn)\n",
    "\n",
    "\n",
    "        \n",
    "def main():\n",
    "    env = gym.make('Blackjack-v0')\n",
    "    env.reset()\n",
    "    # training the DQN\n",
    "\n",
    "if __name__ == \"__main__\":\n",
    "    main()"
   ]
  },
  {
   "cell_type": "markdown",
   "metadata": {},
   "source": [
    "### DQN Evaluation"
   ]
  },
  {
   "cell_type": "code",
   "execution_count": 1,
   "metadata": {},
   "outputs": [
    {
     "data": {
      "text/plain": [
       "<Figure size 640x480 with 1 Axes>"
      ]
     },
     "metadata": {},
     "output_type": "display_data"
    },
    {
     "name": "stdout",
     "output_type": "stream",
     "text": [
      "Average payout after 1000 rounds is -395.007\n"
     ]
    }
   ],
   "source": [
    "import gym\n",
    "import matplotlib.pyplot as plt\n",
    "\n",
    "env = gym.make('Blackjack-v0')\n",
    "env.reset()\n",
    "\n",
    "dqn_agent = ###"
   ]
  }
 ],
 "metadata": {
  "kernelspec": {
   "display_name": "Python 3",
   "language": "python",
   "name": "python3"
  },
  "language_info": {
   "codemirror_mode": {
    "name": "ipython",
    "version": 3
   },
   "file_extension": ".py",
   "mimetype": "text/x-python",
   "name": "python",
   "nbconvert_exporter": "python",
   "pygments_lexer": "ipython3",
   "version": "3.7.1"
  }
 },
 "nbformat": 4,
 "nbformat_minor": 2
}
