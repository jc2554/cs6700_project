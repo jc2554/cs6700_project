{
 "cells": [
  {
   "cell_type": "markdown",
   "metadata": {},
   "source": [
    "# BlackJack"
   ]
  },
  {
   "cell_type": "markdown",
   "metadata": {},
   "source": [
    "## QAgent"
   ]
  },
  {
   "cell_type": "code",
   "execution_count": 3,
   "metadata": {},
   "outputs": [],
   "source": [
    "import gym\n",
    "import matplotlib.pyplot as plt\n",
    "from tqdm import tqdm\n",
    "import math\n",
    "import sys\n",
    "import numpy as np\n",
    "from collections import defaultdict\n",
    "import matplotlib.pyplot as plt\n",
    "from mpl_toolkits.mplot3d import Axes3D\n",
    "from mpl_toolkits.axes_grid1 import make_axes_locatable\n",
    "\n",
    "env = gym.make('Blackjack-v0')\n",
    "state = env.reset()\n",
    "num_rounds = 1000 # Payout calculated over num_rounds\n",
    "num_samples = 1000 # num_rounds simulated over num_samples\n",
    "\n",
    "average_payouts = []\n",
    "\n",
    "class QAgent(object):\n",
    "    def __init__(self, action_space,e_decay):\n",
    "        self.action_space = action_space # Actions that can be taken (0 is to STAY, 1 is to HIT)\n",
    "        self.actionSpaceSize = 2 # Number of actions that can be taken\n",
    "        self.e_decay = e_decay\n",
    "        self.episode = 0\n",
    "        self.Q = defaultdict(lambda: np.array([0,0]))\n",
    "        self.N = defaultdict(lambda: np.array([0,0]))\n",
    "        \n",
    "    \n",
    "    def best_policy(self, Q, e):\n",
    "        action = np.argmax(Q)\n",
    "        policy = np.array([1,1])* e / self.actionSpaceSize\n",
    "        policy[action] = 1 - e + (e / self.actionSpaceSize)\n",
    "        return policy\n",
    "    \n",
    "    def Q_action(self, state , e):\n",
    "        if state in self.Q:\n",
    "            action = np.random.choice([0, 1], p=self.best_policy(self.Q[state], e))\n",
    "        else:\n",
    "            action = self.action_space.sample()\n",
    "        return action\n",
    "\n",
    "    def improve_Q_function(self, e):\n",
    "        obs, acts, payouts = zip(*e)\n",
    "        reduction = np.array([1.0**i for i in range(len(payouts)+1)])\n",
    "        for x, ob in enumerate(obs):\n",
    "            prevQ = self.Q[ob][acts[x]] \n",
    "            prevN = self.N[ob][acts[x]]\n",
    "            self.Q[ob][acts[x]] = prevQ + (sum(payouts[x:]*reduction[:-(1+x)]) - prevQ)/(prevN+1)\n",
    "            self.N[ob][acts[x]] += 1\n",
    "\n",
    "    def states_in_one_episode(self, env):\n",
    "        self.episode += 1\n",
    "        episode = []\n",
    "        epsilon = 1.0/((self.episode/self.e_decay) + 1) # epsilon decay\n",
    "        observation = env.reset()\n",
    "        while True:\n",
    "            action = self.Q_action(observation, epsilon)\n",
    "            next_obs, payout, done, _ = env.step(action)\n",
    "            episode.append((observation, action, payout))\n",
    "            if done:\n",
    "                break\n",
    "            observation = next_obs\n",
    "        return episode"
   ]
  },
  {
   "cell_type": "markdown",
   "metadata": {},
   "source": [
    "## Q_Learner (choose action based on policy)"
   ]
  },
  {
   "cell_type": "code",
   "execution_count": 4,
   "metadata": {},
   "outputs": [],
   "source": [
    "def obtain_policy_and_Q(rounds, e_decay):\n",
    "    qAgent = QAgent(env.action_space, e_decay)\n",
    "    for _ in range(rounds):\n",
    "        episode = qAgent.states_in_one_episode(env) \n",
    "        qAgent.improve_Q_function(episode)    # update Q_value function\n",
    "    p = dict((x, np.argmax(y)) for x, y in qAgent.Q.items())\n",
    "    return p,qAgent.Q\n",
    "\n",
    "def choose_action(action_space, p, obs):\n",
    "    if obs not in p:\n",
    "        action = action_space.sample()\n",
    "    else:\n",
    "        action = p[obs]\n",
    "    return action\n"
   ]
  },
  {
   "cell_type": "markdown",
   "metadata": {},
   "source": [
    "## Evaluation "
   ]
  },
  {
   "cell_type": "code",
   "execution_count": 5,
   "metadata": {},
   "outputs": [
    {
     "name": "stderr",
     "output_type": "stream",
     "text": [
      "100%|██████████| 1000/1000 [02:35<00:00,  6.72it/s]\n"
     ]
    },
    {
     "data": {
      "image/png": "[encoded data removed]",
      "text/plain": [
       "<Figure size 432x288 with 1 Axes>"
      ]
     },
     "metadata": {
      "needs_background": "light"
     },
     "output_type": "display_data"
    },
    {
     "name": "stdout",
     "output_type": "stream",
     "text": [
      "Average payout after 1000 rounds is -315.898\n"
     ]
    }
   ],
   "source": [
    "payouts = []\n",
    "p, Q = obtain_policy_and_Q(1000, 800)\n",
    "for sample in tqdm(range(num_samples)):\n",
    "    env.seed(sample)\n",
    "    obs = env.reset()\n",
    "    round = 0\n",
    "    total_payouts = 0\n",
    "    while round<=num_rounds:\n",
    "        action = choose_action(env.action_space, p, obs)\n",
    "        next_obs, payout, done, _ = env.step(action)\n",
    "        total_payouts+= payout\n",
    "        if done:    \n",
    "            round+=1\n",
    "            env.seed(round)\n",
    "            next_obs = env.reset()\n",
    "    payouts.append(total_payouts)\n",
    "fig = plt.figure()    \n",
    "plt.scatter(np.arange(1,1001), payouts)\n",
    "plt.xlabel('step')\n",
    "plt.ylabel('payout after 1000 rounds')\n",
    "plt.show()  \n",
    "print (\"Average payout after {} rounds is {}\".format(num_rounds, sum(payouts)/num_samples))"
   ]
  }
 ],
 "metadata": {
  "kernelspec": {
   "display_name": "Python 3",
   "language": "python",
   "name": "python3"
  },
  "language_info": {
   "codemirror_mode": {
    "name": "ipython",
    "version": 3
   },
   "file_extension": ".py",
   "mimetype": "text/x-python",
   "name": "python",
   "nbconvert_exporter": "python",
   "pygments_lexer": "ipython3",
   "version": "3.6.7"
  }
 },
 "nbformat": 4,
 "nbformat_minor": 2
}
