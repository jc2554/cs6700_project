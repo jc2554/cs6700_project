{
 "cells": [
  {
   "cell_type": "markdown",
   "metadata": {},
   "source": [
    "# Blackjack"
   ]
  },
  {
   "cell_type": "markdown",
   "metadata": {},
   "source": [
    "### Random Action Player"
   ]
  },
  {
   "cell_type": "markdown",
   "metadata": {},
   "source": [
    "## DQN Agent"
   ]
  },
  {
   "cell_type": "code",
   "execution_count": 11,
   "metadata": {},
   "outputs": [],
   "source": [
    "import random\n",
    "import gym\n",
    "import numpy as np\n",
    "from tqdm import tqdm\n",
    "import tensorflow as tf\n",
    "from collections import deque\n",
    "from keras.models import Sequential\n",
    "from keras.layers import Dense\n",
    "from keras.optimizers import Adam, RMSprop\n",
    "import keras.layers as layers"
   ]
  },
  {
   "cell_type": "code",
   "execution_count": 9,
   "metadata": {},
   "outputs": [],
   "source": [
    "class QMemoryUnit():\n",
    "    def __init__(self, state, action, reward, done, next_state):\n",
    "        self.state = state\n",
    "        self.action = action\n",
    "        self.reward = reward\n",
    "        self.done = done\n",
    "        self.next_state = next_state"
   ]
  },
  {
   "cell_type": "code",
   "execution_count": null,
   "metadata": {},
   "outputs": [
    {
     "name": "stderr",
     "output_type": "stream",
     "text": [
      "  0%|          | 174/100000 [00:11<1:50:30, 15.06it/s]"
     ]
    }
   ],
   "source": [
    "memory_size = 10000\n",
    "episodes = 100000\n",
    "epsilon = 0.1\n",
    "gamma = 0.2\n",
    "minibatch_size = 32\n",
    "\n",
    "tf.set_random_seed(0)\n",
    "np.random.seed(0)\n",
    "model = Sequential()\n",
    "model.add(Dense(10, input_dim=4, activation='relu'))\n",
    "model.add(Dense(10, activation='relu'))\n",
    "model.add(Dense(1, activation='linear'))\n",
    "model.compile(loss='mean_squared_error', optimizer=RMSprop())\n",
    "\n",
    "memory = deque(maxlen=memory_size)\n",
    "env = gym.make('Blackjack-v0')\n",
    "\n",
    "#valid actions\n",
    "action_space = np.array([0,1])\n",
    "\n",
    "#state + actions\n",
    "action_state = np.zeros((2,4))\n",
    "\n",
    "steps = 0\n",
    "reward_plot = []\n",
    "loss_plot = []\n",
    "rewards = []\n",
    "for episode in tqdm(range(episodes)):\n",
    "    done = False\n",
    "    state = np.array(env.reset())\n",
    "    total_reward = 0\n",
    "    while(not done):\n",
    "        action_state[:,:3] = state\n",
    "        action_state[:,3] = action_space\n",
    "        \n",
    "        #random choice\n",
    "        if(random.random() < epsilon):\n",
    "            action = np.random.choice(action_space)\n",
    "        \n",
    "        #action with greatest expected value\n",
    "        else:\n",
    "            action = np.argmax(model.predict(action_state))\n",
    "            \n",
    "        next_state, reward, done, _ = env.step(action)\n",
    "        total_reward += reward\n",
    "        \n",
    "        memory.append(QMemoryUnit(state, action, reward, done, next_state))\n",
    "        state = next_state\n",
    "        \n",
    "        minibatch = np.zeros((minibatch_size, 4))\n",
    "        labels = np.zeros(minibatch_size)\n",
    "        #generate minibatch and labels\n",
    "        for i in range(minibatch_size):\n",
    "            index = np.random.randint(0, len(memory))\n",
    "            sample = memory[index]\n",
    "            \n",
    "            reward = sample.reward\n",
    "            if(not sample.done):\n",
    "                action_state[:,:3] = sample.next_state\n",
    "                action_state[:,3] = action_space\n",
    "                reward += gamma * np.max(model.predict(action_state))\n",
    "            \n",
    "            minibatch[i,:3] = sample.state\n",
    "            minibatch[i,3] = sample.action\n",
    "            labels[i] = reward\n",
    "            \n",
    "        history = model.fit(minibatch, labels, verbose=0)\n",
    "        loss_plot.append(history.history['loss'])\n",
    "        if(steps%50 == 0):\n",
    "            total_reward = 0\n",
    "            for i in range(1000):\n",
    "                env.seed(i)\n",
    "                state = env.reset()\n",
    "                done = False\n",
    "                while(not done):\n",
    "                    action_state[:,:3] = state\n",
    "                    action = np.argmax(model.predict(action_state))\n",
    "                    state, reward, done, _ = env.step(action)\n",
    "                total_reward += reward\n",
    "            reward_plot.append(total_reward)\n",
    "            \n",
    "            \n",
    "        steps+=1\n",
    "        \n",
    "    rewards.append(total_reward)"
   ]
  },
  {
   "cell_type": "code",
   "execution_count": 19,
   "metadata": {},
   "outputs": [],
   "source": [
    "total_reward = 0\n",
    "for i in range(1000):\n",
    "    env.seed(i)\n",
    "    state = env.reset()\n",
    "    done = False\n",
    "    while(not done):\n",
    "        action_state[:,:3] = state\n",
    "        action = np.argmax(model.predict(action_state))\n",
    "        state, reward, done, _ = env.step(action)\n",
    "    total_reward += reward"
   ]
  },
  {
   "cell_type": "code",
   "execution_count": 20,
   "metadata": {},
   "outputs": [
    {
     "data": {
      "text/plain": [
       "-16.0"
      ]
     },
     "execution_count": 20,
     "metadata": {},
     "output_type": "execute_result"
    }
   ],
   "source": [
    "total_reward"
   ]
  },
  {
   "cell_type": "code",
   "execution_count": null,
   "metadata": {},
   "outputs": [],
   "source": []
  }
 ],
 "metadata": {
  "kernelspec": {
   "display_name": "Python 3",
   "language": "python",
   "name": "python3"
  },
  "language_info": {
   "codemirror_mode": {
    "name": "ipython",
    "version": 3
   },
   "file_extension": ".py",
   "mimetype": "text/x-python",
   "name": "python",
   "nbconvert_exporter": "python",
   "pygments_lexer": "ipython3",
   "version": "3.6.1"
  }
 },
 "nbformat": 4,
 "nbformat_minor": 2
}
